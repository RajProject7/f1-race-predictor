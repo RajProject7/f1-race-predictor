{
 "cells": [
  {
   "cell_type": "code",
   "execution_count": 1,
   "id": "3f374fc5-4e85-4770-b470-4ace57505823",
   "metadata": {},
   "outputs": [],
   "source": [
    "import requests\n",
    "import pandas as pd\n",
    "from tqdm import tqdm"
   ]
  },
  {
   "cell_type": "code",
   "execution_count": 2,
   "id": "d03ea017-d639-4186-990e-b48c4980b503",
   "metadata": {},
   "outputs": [],
   "source": [
    "def time_to_seconds(timestr):\n",
    "    \"\"\"Convert qualifying time like '1:23.456' to total seconds as float.\"\"\"\n",
    "    if timestr is None or pd.isna(timestr):\n",
    "        return None\n",
    "    try:\n",
    "        mins, secs = timestr.split(':')\n",
    "        return int(mins) * 60 + float(secs)\n",
    "    except:\n",
    "        return None\n"
   ]
  },
  {
   "cell_type": "code",
   "execution_count": 3,
   "id": "ae229468-491a-4756-8646-3b282562f2f1",
   "metadata": {},
   "outputs": [],
   "source": [
    "def get_f1_data(seasons=[2022, 2023, 2024]):\n",
    "    all_data = []\n",
    "\n",
    "    for season in tqdm(seasons):\n",
    "        for round_num in range(1, 25):  # max 24 races per season\n",
    "            # Race results API\n",
    "            results_url = f\"https://ergast.com/api/f1/{season}/{round_num}/results.json?limit=100\"\n",
    "            qual_url = f\"https://ergast.com/api/f1/{season}/{round_num}/qualifying.json?limit=100\"\n",
    "\n",
    "            try:\n",
    "                res_resp = requests.get(results_url).json()\n",
    "                qual_resp = requests.get(qual_url).json()\n",
    "\n",
    "                races = res_resp['MRData']['RaceTable']['Races']\n",
    "                if not races:\n",
    "                    continue\n",
    "\n",
    "                race = races[0]\n",
    "                qual_results = {q['Driver']['driverId']: q for q in qual_resp['MRData']['RaceTable']['Races'][0]['QualifyingResults']} if qual_resp['MRData']['RaceTable']['Races'] else {}\n",
    "\n",
    "                for result in race['Results']:\n",
    "                    driver = result['Driver']\n",
    "                    constructor = result['Constructor']\n",
    "                    driver_id = driver['driverId']\n",
    "\n",
    "                    q_data = qual_results.get(driver_id, {})\n",
    "                    q1 = time_to_seconds(q_data.get('Q1'))\n",
    "                    q2 = time_to_seconds(q_data.get('Q2'))\n",
    "                    q3 = time_to_seconds(q_data.get('Q3'))\n",
    "\n",
    "                    all_data.append({\n",
    "                        'season': season,\n",
    "                        'round': int(race['round']),\n",
    "                        'race_name': race['raceName'],\n",
    "                        'circuit': race['Circuit']['circuitName'],\n",
    "                        'date': race['date'],\n",
    "                        'driver': f\"{driver['givenName']} {driver['familyName']}\",\n",
    "                        'driver_id': driver_id,\n",
    "                        'constructor': constructor['name'],\n",
    "                        'grid': int(result['grid']),\n",
    "                        'position': int(result['position']),\n",
    "                        'status': result['status'],\n",
    "                        'points': float(result['points']),\n",
    "                        'Q1': q1,\n",
    "                        'Q2': q2,\n",
    "                        'Q3': q3\n",
    "                    })\n",
    "            except Exception as e:\n",
    "                print(f\"Error in {season} round {round_num}: {e}\")\n",
    "    \n",
    "    return pd.DataFrame(all_data)\n"
   ]
  },
  {
   "cell_type": "code",
   "execution_count": 4,
   "id": "9ac75932-eba9-4b2f-84e1-57db30b1d454",
   "metadata": {},
   "outputs": [
    {
     "name": "stderr",
     "output_type": "stream",
     "text": [
      "100%|████████████████████████████████████████████████████████████████████████████████████| 3/3 [03:44<00:00, 74.87s/it]\n"
     ]
    },
    {
     "data": {
      "text/html": [
       "<div>\n",
       "<style scoped>\n",
       "    .dataframe tbody tr th:only-of-type {\n",
       "        vertical-align: middle;\n",
       "    }\n",
       "\n",
       "    .dataframe tbody tr th {\n",
       "        vertical-align: top;\n",
       "    }\n",
       "\n",
       "    .dataframe thead th {\n",
       "        text-align: right;\n",
       "    }\n",
       "</style>\n",
       "<table border=\"1\" class=\"dataframe\">\n",
       "  <thead>\n",
       "    <tr style=\"text-align: right;\">\n",
       "      <th></th>\n",
       "      <th>season</th>\n",
       "      <th>round</th>\n",
       "      <th>race_name</th>\n",
       "      <th>circuit</th>\n",
       "      <th>date</th>\n",
       "      <th>driver</th>\n",
       "      <th>driver_id</th>\n",
       "      <th>constructor</th>\n",
       "      <th>grid</th>\n",
       "      <th>position</th>\n",
       "      <th>status</th>\n",
       "      <th>points</th>\n",
       "      <th>Q1</th>\n",
       "      <th>Q2</th>\n",
       "      <th>Q3</th>\n",
       "    </tr>\n",
       "  </thead>\n",
       "  <tbody>\n",
       "    <tr>\n",
       "      <th>0</th>\n",
       "      <td>2022</td>\n",
       "      <td>1</td>\n",
       "      <td>Bahrain Grand Prix</td>\n",
       "      <td>Bahrain International Circuit</td>\n",
       "      <td>2022-03-20</td>\n",
       "      <td>Charles Leclerc</td>\n",
       "      <td>leclerc</td>\n",
       "      <td>Ferrari</td>\n",
       "      <td>1</td>\n",
       "      <td>1</td>\n",
       "      <td>Finished</td>\n",
       "      <td>26.0</td>\n",
       "      <td>91.471</td>\n",
       "      <td>90.932</td>\n",
       "      <td>90.558</td>\n",
       "    </tr>\n",
       "    <tr>\n",
       "      <th>1</th>\n",
       "      <td>2022</td>\n",
       "      <td>1</td>\n",
       "      <td>Bahrain Grand Prix</td>\n",
       "      <td>Bahrain International Circuit</td>\n",
       "      <td>2022-03-20</td>\n",
       "      <td>Carlos Sainz</td>\n",
       "      <td>sainz</td>\n",
       "      <td>Ferrari</td>\n",
       "      <td>3</td>\n",
       "      <td>2</td>\n",
       "      <td>Finished</td>\n",
       "      <td>18.0</td>\n",
       "      <td>91.567</td>\n",
       "      <td>90.787</td>\n",
       "      <td>90.687</td>\n",
       "    </tr>\n",
       "    <tr>\n",
       "      <th>2</th>\n",
       "      <td>2022</td>\n",
       "      <td>1</td>\n",
       "      <td>Bahrain Grand Prix</td>\n",
       "      <td>Bahrain International Circuit</td>\n",
       "      <td>2022-03-20</td>\n",
       "      <td>Lewis Hamilton</td>\n",
       "      <td>hamilton</td>\n",
       "      <td>Mercedes</td>\n",
       "      <td>5</td>\n",
       "      <td>3</td>\n",
       "      <td>Finished</td>\n",
       "      <td>15.0</td>\n",
       "      <td>92.285</td>\n",
       "      <td>91.048</td>\n",
       "      <td>91.238</td>\n",
       "    </tr>\n",
       "    <tr>\n",
       "      <th>3</th>\n",
       "      <td>2022</td>\n",
       "      <td>1</td>\n",
       "      <td>Bahrain Grand Prix</td>\n",
       "      <td>Bahrain International Circuit</td>\n",
       "      <td>2022-03-20</td>\n",
       "      <td>George Russell</td>\n",
       "      <td>russell</td>\n",
       "      <td>Mercedes</td>\n",
       "      <td>9</td>\n",
       "      <td>4</td>\n",
       "      <td>Finished</td>\n",
       "      <td>12.0</td>\n",
       "      <td>92.269</td>\n",
       "      <td>91.252</td>\n",
       "      <td>92.216</td>\n",
       "    </tr>\n",
       "    <tr>\n",
       "      <th>4</th>\n",
       "      <td>2022</td>\n",
       "      <td>1</td>\n",
       "      <td>Bahrain Grand Prix</td>\n",
       "      <td>Bahrain International Circuit</td>\n",
       "      <td>2022-03-20</td>\n",
       "      <td>Kevin Magnussen</td>\n",
       "      <td>kevin_magnussen</td>\n",
       "      <td>Haas F1 Team</td>\n",
       "      <td>7</td>\n",
       "      <td>5</td>\n",
       "      <td>Finished</td>\n",
       "      <td>10.0</td>\n",
       "      <td>91.955</td>\n",
       "      <td>91.461</td>\n",
       "      <td>91.808</td>\n",
       "    </tr>\n",
       "  </tbody>\n",
       "</table>\n",
       "</div>"
      ],
      "text/plain": [
       "   season  round           race_name                        circuit  \\\n",
       "0    2022      1  Bahrain Grand Prix  Bahrain International Circuit   \n",
       "1    2022      1  Bahrain Grand Prix  Bahrain International Circuit   \n",
       "2    2022      1  Bahrain Grand Prix  Bahrain International Circuit   \n",
       "3    2022      1  Bahrain Grand Prix  Bahrain International Circuit   \n",
       "4    2022      1  Bahrain Grand Prix  Bahrain International Circuit   \n",
       "\n",
       "         date           driver        driver_id   constructor  grid  position  \\\n",
       "0  2022-03-20  Charles Leclerc          leclerc       Ferrari     1         1   \n",
       "1  2022-03-20     Carlos Sainz            sainz       Ferrari     3         2   \n",
       "2  2022-03-20   Lewis Hamilton         hamilton      Mercedes     5         3   \n",
       "3  2022-03-20   George Russell          russell      Mercedes     9         4   \n",
       "4  2022-03-20  Kevin Magnussen  kevin_magnussen  Haas F1 Team     7         5   \n",
       "\n",
       "     status  points      Q1      Q2      Q3  \n",
       "0  Finished    26.0  91.471  90.932  90.558  \n",
       "1  Finished    18.0  91.567  90.787  90.687  \n",
       "2  Finished    15.0  92.285  91.048  91.238  \n",
       "3  Finished    12.0  92.269  91.252  92.216  \n",
       "4  Finished    10.0  91.955  91.461  91.808  "
      ]
     },
     "execution_count": 4,
     "metadata": {},
     "output_type": "execute_result"
    }
   ],
   "source": [
    "df_raw = get_f1_data([2022, 2023, 2024])\n",
    "df_raw.to_csv('../data/f1_raw_2022_2024.csv', index=False)\n",
    "df_raw.head()"
   ]
  },
  {
   "cell_type": "markdown",
   "id": "77f2be1f-f864-4cbe-b4bc-006c24ad4b4a",
   "metadata": {},
   "source": [
    "Step 2"
   ]
  },
  {
   "cell_type": "code",
   "execution_count": 6,
   "id": "f0d46cf7-6922-44e7-a4ba-f3e33a8e791b",
   "metadata": {},
   "outputs": [
    {
     "data": {
      "text/html": [
       "<div>\n",
       "<style scoped>\n",
       "    .dataframe tbody tr th:only-of-type {\n",
       "        vertical-align: middle;\n",
       "    }\n",
       "\n",
       "    .dataframe tbody tr th {\n",
       "        vertical-align: top;\n",
       "    }\n",
       "\n",
       "    .dataframe thead th {\n",
       "        text-align: right;\n",
       "    }\n",
       "</style>\n",
       "<table border=\"1\" class=\"dataframe\">\n",
       "  <thead>\n",
       "    <tr style=\"text-align: right;\">\n",
       "      <th></th>\n",
       "      <th>season</th>\n",
       "      <th>round</th>\n",
       "      <th>race_name</th>\n",
       "      <th>circuit</th>\n",
       "      <th>date</th>\n",
       "      <th>driver</th>\n",
       "      <th>driver_id</th>\n",
       "      <th>constructor</th>\n",
       "      <th>grid</th>\n",
       "      <th>position</th>\n",
       "      <th>status</th>\n",
       "      <th>points</th>\n",
       "      <th>Q1</th>\n",
       "      <th>Q2</th>\n",
       "      <th>Q3</th>\n",
       "    </tr>\n",
       "  </thead>\n",
       "  <tbody>\n",
       "    <tr>\n",
       "      <th>0</th>\n",
       "      <td>2022</td>\n",
       "      <td>1</td>\n",
       "      <td>Bahrain Grand Prix</td>\n",
       "      <td>Bahrain International Circuit</td>\n",
       "      <td>2022-03-20</td>\n",
       "      <td>Charles Leclerc</td>\n",
       "      <td>leclerc</td>\n",
       "      <td>Ferrari</td>\n",
       "      <td>1</td>\n",
       "      <td>1</td>\n",
       "      <td>Finished</td>\n",
       "      <td>26.0</td>\n",
       "      <td>91.471</td>\n",
       "      <td>90.932</td>\n",
       "      <td>90.558</td>\n",
       "    </tr>\n",
       "    <tr>\n",
       "      <th>1</th>\n",
       "      <td>2022</td>\n",
       "      <td>1</td>\n",
       "      <td>Bahrain Grand Prix</td>\n",
       "      <td>Bahrain International Circuit</td>\n",
       "      <td>2022-03-20</td>\n",
       "      <td>Carlos Sainz</td>\n",
       "      <td>sainz</td>\n",
       "      <td>Ferrari</td>\n",
       "      <td>3</td>\n",
       "      <td>2</td>\n",
       "      <td>Finished</td>\n",
       "      <td>18.0</td>\n",
       "      <td>91.567</td>\n",
       "      <td>90.787</td>\n",
       "      <td>90.687</td>\n",
       "    </tr>\n",
       "    <tr>\n",
       "      <th>2</th>\n",
       "      <td>2022</td>\n",
       "      <td>1</td>\n",
       "      <td>Bahrain Grand Prix</td>\n",
       "      <td>Bahrain International Circuit</td>\n",
       "      <td>2022-03-20</td>\n",
       "      <td>Lewis Hamilton</td>\n",
       "      <td>hamilton</td>\n",
       "      <td>Mercedes</td>\n",
       "      <td>5</td>\n",
       "      <td>3</td>\n",
       "      <td>Finished</td>\n",
       "      <td>15.0</td>\n",
       "      <td>92.285</td>\n",
       "      <td>91.048</td>\n",
       "      <td>91.238</td>\n",
       "    </tr>\n",
       "    <tr>\n",
       "      <th>3</th>\n",
       "      <td>2022</td>\n",
       "      <td>1</td>\n",
       "      <td>Bahrain Grand Prix</td>\n",
       "      <td>Bahrain International Circuit</td>\n",
       "      <td>2022-03-20</td>\n",
       "      <td>George Russell</td>\n",
       "      <td>russell</td>\n",
       "      <td>Mercedes</td>\n",
       "      <td>9</td>\n",
       "      <td>4</td>\n",
       "      <td>Finished</td>\n",
       "      <td>12.0</td>\n",
       "      <td>92.269</td>\n",
       "      <td>91.252</td>\n",
       "      <td>92.216</td>\n",
       "    </tr>\n",
       "    <tr>\n",
       "      <th>4</th>\n",
       "      <td>2022</td>\n",
       "      <td>1</td>\n",
       "      <td>Bahrain Grand Prix</td>\n",
       "      <td>Bahrain International Circuit</td>\n",
       "      <td>2022-03-20</td>\n",
       "      <td>Kevin Magnussen</td>\n",
       "      <td>kevin_magnussen</td>\n",
       "      <td>Haas F1 Team</td>\n",
       "      <td>7</td>\n",
       "      <td>5</td>\n",
       "      <td>Finished</td>\n",
       "      <td>10.0</td>\n",
       "      <td>91.955</td>\n",
       "      <td>91.461</td>\n",
       "      <td>91.808</td>\n",
       "    </tr>\n",
       "  </tbody>\n",
       "</table>\n",
       "</div>"
      ],
      "text/plain": [
       "   season  round           race_name                        circuit  \\\n",
       "0    2022      1  Bahrain Grand Prix  Bahrain International Circuit   \n",
       "1    2022      1  Bahrain Grand Prix  Bahrain International Circuit   \n",
       "2    2022      1  Bahrain Grand Prix  Bahrain International Circuit   \n",
       "3    2022      1  Bahrain Grand Prix  Bahrain International Circuit   \n",
       "4    2022      1  Bahrain Grand Prix  Bahrain International Circuit   \n",
       "\n",
       "        date           driver        driver_id   constructor  grid  position  \\\n",
       "0 2022-03-20  Charles Leclerc          leclerc       Ferrari     1         1   \n",
       "1 2022-03-20     Carlos Sainz            sainz       Ferrari     3         2   \n",
       "2 2022-03-20   Lewis Hamilton         hamilton      Mercedes     5         3   \n",
       "3 2022-03-20   George Russell          russell      Mercedes     9         4   \n",
       "4 2022-03-20  Kevin Magnussen  kevin_magnussen  Haas F1 Team     7         5   \n",
       "\n",
       "     status  points      Q1      Q2      Q3  \n",
       "0  Finished    26.0  91.471  90.932  90.558  \n",
       "1  Finished    18.0  91.567  90.787  90.687  \n",
       "2  Finished    15.0  92.285  91.048  91.238  \n",
       "3  Finished    12.0  92.269  91.252  92.216  \n",
       "4  Finished    10.0  91.955  91.461  91.808  "
      ]
     },
     "execution_count": 6,
     "metadata": {},
     "output_type": "execute_result"
    }
   ],
   "source": [
    "import pandas as pd\n",
    "\n",
    "df = pd.read_csv('../data/f1_raw_2022_2024.csv', parse_dates=['date'])\n",
    "df.head()"
   ]
  },
  {
   "cell_type": "code",
   "execution_count": 4,
   "id": "afe33e81-3fab-4cc2-ad19-34305edbc79e",
   "metadata": {},
   "outputs": [
    {
     "ename": "NameError",
     "evalue": "name 'df' is not defined",
     "output_type": "error",
     "traceback": [
      "\u001b[31m---------------------------------------------------------------------------\u001b[39m",
      "\u001b[31mNameError\u001b[39m                                 Traceback (most recent call last)",
      "\u001b[36mCell\u001b[39m\u001b[36m \u001b[39m\u001b[32mIn[4]\u001b[39m\u001b[32m, line 1\u001b[39m\n\u001b[32m----> \u001b[39m\u001b[32m1\u001b[39m \u001b[38;5;28mprint\u001b[39m(\u001b[43mdf\u001b[49m.info())\n\u001b[32m      2\u001b[39m \u001b[38;5;28mprint\u001b[39m(df.isnull().sum())\n\u001b[32m      3\u001b[39m \u001b[38;5;28mprint\u001b[39m(df[\u001b[33m'\u001b[39m\u001b[33mstatus\u001b[39m\u001b[33m'\u001b[39m].value_counts())\n",
      "\u001b[31mNameError\u001b[39m: name 'df' is not defined"
     ]
    }
   ],
   "source": [
    "print(df.info())\n",
    "print(df.isnull().sum())\n",
    "print(df['status'].value_counts())\n",
    "print(df['season'].value_counts())"
   ]
  },
  {
   "cell_type": "code",
   "execution_count": 5,
   "id": "5c12c128-6776-4f58-99b4-8dd50d07f581",
   "metadata": {},
   "outputs": [
    {
     "ename": "NameError",
     "evalue": "name 'df' is not defined",
     "output_type": "error",
     "traceback": [
      "\u001b[31m---------------------------------------------------------------------------\u001b[39m",
      "\u001b[31mNameError\u001b[39m                                 Traceback (most recent call last)",
      "\u001b[36mCell\u001b[39m\u001b[36m \u001b[39m\u001b[32mIn[5]\u001b[39m\u001b[32m, line 1\u001b[39m\n\u001b[32m----> \u001b[39m\u001b[32m1\u001b[39m df = \u001b[43mdf\u001b[49m[df[\u001b[33m'\u001b[39m\u001b[33mstatus\u001b[39m\u001b[33m'\u001b[39m] == \u001b[33m'\u001b[39m\u001b[33mFinished\u001b[39m\u001b[33m'\u001b[39m]\n\u001b[32m      2\u001b[39m df = df.dropna(subset=[\u001b[33m'\u001b[39m\u001b[33mposition\u001b[39m\u001b[33m'\u001b[39m])\n\u001b[32m      3\u001b[39m \u001b[38;5;66;03m#filtering to only finished races\u001b[39;00m\n",
      "\u001b[31mNameError\u001b[39m: name 'df' is not defined"
     ]
    }
   ],
   "source": [
    "df = df[df['status'] == 'Finished']\n",
    "df = df.dropna(subset=['position'])\n",
    "#filtering to only finished races"
   ]
  },
  {
   "cell_type": "code",
   "execution_count": 6,
   "id": "6495c246-03a1-4ebe-94f9-d64331682c5c",
   "metadata": {},
   "outputs": [
    {
     "ename": "NameError",
     "evalue": "name 'df' is not defined",
     "output_type": "error",
     "traceback": [
      "\u001b[31m---------------------------------------------------------------------------\u001b[39m",
      "\u001b[31mNameError\u001b[39m                                 Traceback (most recent call last)",
      "\u001b[36mCell\u001b[39m\u001b[36m \u001b[39m\u001b[32mIn[6]\u001b[39m\u001b[32m, line 1\u001b[39m\n\u001b[32m----> \u001b[39m\u001b[32m1\u001b[39m df[\u001b[33m'\u001b[39m\u001b[33mpodium\u001b[39m\u001b[33m'\u001b[39m] = \u001b[43mdf\u001b[49m[\u001b[33m'\u001b[39m\u001b[33mposition\u001b[39m\u001b[33m'\u001b[39m].apply(\u001b[38;5;28;01mlambda\u001b[39;00m x: \u001b[32m1\u001b[39m \u001b[38;5;28;01mif\u001b[39;00m x <= \u001b[32m3\u001b[39m \u001b[38;5;28;01melse\u001b[39;00m \u001b[32m0\u001b[39m)\n\u001b[32m      2\u001b[39m \u001b[38;5;66;03m# target variable\u001b[39;00m\n",
      "\u001b[31mNameError\u001b[39m: name 'df' is not defined"
     ]
    }
   ],
   "source": [
    "df['podium'] = df['position'].apply(lambda x: 1 if x <= 3 else 0)\n",
    "# target variable"
   ]
  },
  {
   "cell_type": "code",
   "execution_count": 7,
   "id": "57f29e37-5e79-4095-8565-f65699b7393b",
   "metadata": {},
   "outputs": [
    {
     "ename": "NameError",
     "evalue": "name 'df' is not defined",
     "output_type": "error",
     "traceback": [
      "\u001b[31m---------------------------------------------------------------------------\u001b[39m",
      "\u001b[31mNameError\u001b[39m                                 Traceback (most recent call last)",
      "\u001b[36mCell\u001b[39m\u001b[36m \u001b[39m\u001b[32mIn[7]\u001b[39m\u001b[32m, line 1\u001b[39m\n\u001b[32m----> \u001b[39m\u001b[32m1\u001b[39m df[\u001b[33m'\u001b[39m\u001b[33mqualifying_time\u001b[39m\u001b[33m'\u001b[39m] = \u001b[43mdf\u001b[49m[[\u001b[33m'\u001b[39m\u001b[33mQ1\u001b[39m\u001b[33m'\u001b[39m, \u001b[33m'\u001b[39m\u001b[33mQ2\u001b[39m\u001b[33m'\u001b[39m, \u001b[33m'\u001b[39m\u001b[33mQ3\u001b[39m\u001b[33m'\u001b[39m]].min(axis=\u001b[32m1\u001b[39m)\n\u001b[32m      2\u001b[39m \u001b[38;5;66;03m# adding best quali time\u001b[39;00m\n",
      "\u001b[31mNameError\u001b[39m: name 'df' is not defined"
     ]
    }
   ],
   "source": [
    "df['qualifying_time'] = df[['Q1', 'Q2', 'Q3']].min(axis=1)\n",
    "# adding best quali time"
   ]
  },
  {
   "cell_type": "code",
   "execution_count": 8,
   "id": "be259b7b-3394-4870-930f-db5cdb9e32d0",
   "metadata": {},
   "outputs": [
    {
     "ename": "NameError",
     "evalue": "name 'df' is not defined",
     "output_type": "error",
     "traceback": [
      "\u001b[31m---------------------------------------------------------------------------\u001b[39m",
      "\u001b[31mNameError\u001b[39m                                 Traceback (most recent call last)",
      "\u001b[36mCell\u001b[39m\u001b[36m \u001b[39m\u001b[32mIn[8]\u001b[39m\u001b[32m, line 1\u001b[39m\n\u001b[32m----> \u001b[39m\u001b[32m1\u001b[39m df[\u001b[33m'\u001b[39m\u001b[33mcircuit_encoded\u001b[39m\u001b[33m'\u001b[39m] = \u001b[43mdf\u001b[49m[\u001b[33m'\u001b[39m\u001b[33mcircuit\u001b[39m\u001b[33m'\u001b[39m].astype(\u001b[33m'\u001b[39m\u001b[33mcategory\u001b[39m\u001b[33m'\u001b[39m).cat.codes\n\u001b[32m      2\u001b[39m \u001b[38;5;66;03m# encode circuit as numerical\u001b[39;00m\n",
      "\u001b[31mNameError\u001b[39m: name 'df' is not defined"
     ]
    }
   ],
   "source": [
    "df['circuit_encoded'] = df['circuit'].astype('category').cat.codes\n",
    "# encode circuit as numerical"
   ]
  },
  {
   "cell_type": "code",
   "execution_count": 9,
   "id": "608b63f4-696f-4955-8fd7-8f57d75b24db",
   "metadata": {},
   "outputs": [
    {
     "ename": "NameError",
     "evalue": "name 'df' is not defined",
     "output_type": "error",
     "traceback": [
      "\u001b[31m---------------------------------------------------------------------------\u001b[39m",
      "\u001b[31mNameError\u001b[39m                                 Traceback (most recent call last)",
      "\u001b[36mCell\u001b[39m\u001b[36m \u001b[39m\u001b[32mIn[9]\u001b[39m\u001b[32m, line 1\u001b[39m\n\u001b[32m----> \u001b[39m\u001b[32m1\u001b[39m df = \u001b[43mdf\u001b[49m.sort_values([\u001b[33m'\u001b[39m\u001b[33mdriver\u001b[39m\u001b[33m'\u001b[39m, \u001b[33m'\u001b[39m\u001b[33mdate\u001b[39m\u001b[33m'\u001b[39m])\n\u001b[32m      3\u001b[39m df[\u001b[33m'\u001b[39m\u001b[33mdriver_form\u001b[39m\u001b[33m'\u001b[39m] = df.groupby(\u001b[33m'\u001b[39m\u001b[33mdriver\u001b[39m\u001b[33m'\u001b[39m)[\u001b[33m'\u001b[39m\u001b[33mposition\u001b[39m\u001b[33m'\u001b[39m].transform(\n\u001b[32m      4\u001b[39m     \u001b[38;5;28;01mlambda\u001b[39;00m x: x.shift(\u001b[32m1\u001b[39m).rolling(\u001b[32m3\u001b[39m).mean()\n\u001b[32m      5\u001b[39m )\n\u001b[32m      6\u001b[39m \u001b[38;5;66;03m# calculating driver form\u001b[39;00m\n",
      "\u001b[31mNameError\u001b[39m: name 'df' is not defined"
     ]
    }
   ],
   "source": [
    "df = df.sort_values(['driver', 'date'])\n",
    "\n",
    "df['driver_form'] = df.groupby('driver')['position'].transform(\n",
    "    lambda x: x.shift(1).rolling(3).mean()\n",
    ")\n",
    "# calculating driver form"
   ]
  },
  {
   "cell_type": "code",
   "execution_count": 10,
   "id": "37657021-e106-444c-8bd5-7cb62c8cbc01",
   "metadata": {},
   "outputs": [
    {
     "ename": "NameError",
     "evalue": "name 'df' is not defined",
     "output_type": "error",
     "traceback": [
      "\u001b[31m---------------------------------------------------------------------------\u001b[39m",
      "\u001b[31mNameError\u001b[39m                                 Traceback (most recent call last)",
      "\u001b[36mCell\u001b[39m\u001b[36m \u001b[39m\u001b[32mIn[10]\u001b[39m\u001b[32m, line 1\u001b[39m\n\u001b[32m----> \u001b[39m\u001b[32m1\u001b[39m df[\u001b[33m'\u001b[39m\u001b[33mconstructor_form\u001b[39m\u001b[33m'\u001b[39m] = \u001b[43mdf\u001b[49m.groupby(\u001b[33m'\u001b[39m\u001b[33mconstructor\u001b[39m\u001b[33m'\u001b[39m)[\u001b[33m'\u001b[39m\u001b[33mposition\u001b[39m\u001b[33m'\u001b[39m].transform(\n\u001b[32m      2\u001b[39m     \u001b[38;5;28;01mlambda\u001b[39;00m x: x.shift(\u001b[32m1\u001b[39m).rolling(\u001b[32m3\u001b[39m).mean()\n\u001b[32m      3\u001b[39m )\n\u001b[32m      4\u001b[39m \u001b[38;5;66;03m# constructor form\u001b[39;00m\n",
      "\u001b[31mNameError\u001b[39m: name 'df' is not defined"
     ]
    }
   ],
   "source": [
    "df['constructor_form'] = df.groupby('constructor')['position'].transform(\n",
    "    lambda x: x.shift(1).rolling(3).mean()\n",
    ")\n",
    "# constructor form"
   ]
  },
  {
   "cell_type": "code",
   "execution_count": 11,
   "id": "73da3418-6850-456e-a3f3-fca14999aaf2",
   "metadata": {},
   "outputs": [
    {
     "ename": "NameError",
     "evalue": "name 'df' is not defined",
     "output_type": "error",
     "traceback": [
      "\u001b[31m---------------------------------------------------------------------------\u001b[39m",
      "\u001b[31mNameError\u001b[39m                                 Traceback (most recent call last)",
      "\u001b[36mCell\u001b[39m\u001b[36m \u001b[39m\u001b[32mIn[11]\u001b[39m\u001b[32m, line 1\u001b[39m\n\u001b[32m----> \u001b[39m\u001b[32m1\u001b[39m df[\u001b[33m'\u001b[39m\u001b[33mgrid_advantage\u001b[39m\u001b[33m'\u001b[39m] = \u001b[43mdf\u001b[49m[\u001b[33m'\u001b[39m\u001b[33mgrid\u001b[39m\u001b[33m'\u001b[39m] - df[\u001b[33m'\u001b[39m\u001b[33mposition\u001b[39m\u001b[33m'\u001b[39m]\n\u001b[32m      2\u001b[39m \u001b[38;5;66;03m# grid advantage \u001b[39;00m\n",
      "\u001b[31mNameError\u001b[39m: name 'df' is not defined"
     ]
    }
   ],
   "source": [
    "df['grid_advantage'] = df['grid'] - df['position']\n",
    "# grid advantage "
   ]
  },
  {
   "cell_type": "code",
   "execution_count": 12,
   "id": "5130255a-3ef9-412c-b46d-ef7b3ea6b6f4",
   "metadata": {},
   "outputs": [
    {
     "ename": "NameError",
     "evalue": "name 'df' is not defined",
     "output_type": "error",
     "traceback": [
      "\u001b[31m---------------------------------------------------------------------------\u001b[39m",
      "\u001b[31mNameError\u001b[39m                                 Traceback (most recent call last)",
      "\u001b[36mCell\u001b[39m\u001b[36m \u001b[39m\u001b[32mIn[12]\u001b[39m\u001b[32m, line 1\u001b[39m\n\u001b[32m----> \u001b[39m\u001b[32m1\u001b[39m df_clean = \u001b[43mdf\u001b[49m.dropna(subset=[\n\u001b[32m      2\u001b[39m     \u001b[33m'\u001b[39m\u001b[33mpodium\u001b[39m\u001b[33m'\u001b[39m, \u001b[33m'\u001b[39m\u001b[33mgrid\u001b[39m\u001b[33m'\u001b[39m, \u001b[33m'\u001b[39m\u001b[33mdriver_form\u001b[39m\u001b[33m'\u001b[39m, \u001b[33m'\u001b[39m\u001b[33mconstructor_form\u001b[39m\u001b[33m'\u001b[39m,\n\u001b[32m      3\u001b[39m     \u001b[33m'\u001b[39m\u001b[33mcircuit_encoded\u001b[39m\u001b[33m'\u001b[39m, \u001b[33m'\u001b[39m\u001b[33mgrid_advantage\u001b[39m\u001b[33m'\u001b[39m, \u001b[33m'\u001b[39m\u001b[33mqualifying_time\u001b[39m\u001b[33m'\u001b[39m\n\u001b[32m      4\u001b[39m ])\n\u001b[32m      6\u001b[39m df_clean.to_csv(\u001b[33m'\u001b[39m\u001b[33m../data/f1_features_2022_2024.csv\u001b[39m\u001b[33m'\u001b[39m, index=\u001b[38;5;28;01mFalse\u001b[39;00m)\n\u001b[32m      7\u001b[39m df_clean.head()\n",
      "\u001b[31mNameError\u001b[39m: name 'df' is not defined"
     ]
    }
   ],
   "source": [
    "df_clean = df.dropna(subset=[\n",
    "    'podium', 'grid', 'driver_form', 'constructor_form',\n",
    "    'circuit_encoded', 'grid_advantage', 'qualifying_time'\n",
    "])\n",
    "\n",
    "df_clean.to_csv('../data/f1_features_2022_2024.csv', index=False)\n",
    "df_clean.head()\n"
   ]
  },
  {
   "cell_type": "markdown",
   "id": "4f2f3d11-6e56-43f9-932e-fa0c932c884e",
   "metadata": {},
   "source": [
    "| Function             | Purpose                                   |\n",
    "| -------------------- | ----------------------------------------- |\n",
    "| `groupby('driver')`  | Process each driver's data separately     |\n",
    "| `transform(...)`     | Return a column the same size as original |\n",
    "| `x.shift(1)`         | Remove current race from the average      |\n",
    "| `.rolling(3).mean()` | Average last 3 results (after shift)      |\n",
    "\n",
    "\n",
    "For each driver, shift their position history by one (so we exclude the current race), then compute the average of the last 3 races, and assign that value as their driver_form going into the current race.\"\n"
   ]
  },
  {
   "cell_type": "code",
   "execution_count": 1,
   "id": "d7fd1a09-ba11-4ae8-9b49-db0047bc33ca",
   "metadata": {},
   "outputs": [
    {
     "ename": "NameError",
     "evalue": "name 'df' is not defined",
     "output_type": "error",
     "traceback": [
      "\u001b[31m---------------------------------------------------------------------------\u001b[39m",
      "\u001b[31mNameError\u001b[39m                                 Traceback (most recent call last)",
      "\u001b[36mCell\u001b[39m\u001b[36m \u001b[39m\u001b[32mIn[1]\u001b[39m\u001b[32m, line 1\u001b[39m\n\u001b[32m----> \u001b[39m\u001b[32m1\u001b[39m \u001b[43mdf\u001b[49m[\u001b[33m'\u001b[39m\u001b[33mcircuit\u001b[39m\u001b[33m'\u001b[39m].astype(\u001b[33m'\u001b[39m\u001b[33mcategory\u001b[39m\u001b[33m'\u001b[39m).cat.categories\n",
      "\u001b[31mNameError\u001b[39m: name 'df' is not defined"
     ]
    }
   ],
   "source": [
    "df['circuit'].astype('category').cat.categories"
   ]
  },
  {
   "cell_type": "code",
   "execution_count": null,
   "id": "7c8414ce-b733-4533-9262-a3c612073618",
   "metadata": {},
   "outputs": [],
   "source": []
  }
 ],
 "metadata": {
  "kernelspec": {
   "display_name": "Python 3 (ipykernel)",
   "language": "python",
   "name": "python3"
  },
  "language_info": {
   "codemirror_mode": {
    "name": "ipython",
    "version": 3
   },
   "file_extension": ".py",
   "mimetype": "text/x-python",
   "name": "python",
   "nbconvert_exporter": "python",
   "pygments_lexer": "ipython3",
   "version": "3.13.1"
  }
 },
 "nbformat": 4,
 "nbformat_minor": 5
}
