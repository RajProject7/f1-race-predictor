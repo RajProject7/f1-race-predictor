{
 "cells": [
  {
   "cell_type": "code",
   "execution_count": 1,
   "id": "13883234-3d71-483b-944d-fa0fdcf8dcbc",
   "metadata": {},
   "outputs": [
    {
     "name": "stderr",
     "output_type": "stream",
     "text": [
      "Processing Rounds:   0%|                                                                        | 0/22 [00:00<?, ?it/s]core           INFO \tLoading data for Bahrain Grand Prix - Qualifying [v3.5.3]\n",
      "req            INFO \tUsing cached data for session_info\n",
      "req            INFO \tUsing cached data for driver_info\n",
      "req            INFO \tUsing cached data for session_status_data\n",
      "req            INFO \tUsing cached data for track_status_data\n",
      "req            INFO \tUsing cached data for _extended_timing_data\n",
      "req            INFO \tUsing cached data for timing_app_data\n",
      "core           INFO \tProcessing timing data...\n",
      "req            INFO \tUsing cached data for car_data\n",
      "req            INFO \tUsing cached data for position_data\n",
      "req            INFO \tUsing cached data for weather_data\n",
      "req            INFO \tUsing cached data for race_control_messages\n",
      "core           INFO \tFinished loading data for 20 drivers: ['1', '16', '63', '55', '11', '14', '4', '81', '44', '27', '22', '18', '23', '3', '20', '77', '24', '2', '31', '10']\n",
      "Processing Rounds:   5%|██▉                                                             | 1/22 [00:02<00:47,  2.26s/it]core           INFO \tLoading data for Saudi Arabian Grand Prix - Qualifying [v3.5.3]\n",
      "req            INFO \tUsing cached data for session_info\n",
      "req            INFO \tUsing cached data for driver_info\n"
     ]
    },
    {
     "name": "stdout",
     "output_type": "stream",
     "text": [
      "🔎 Best laps (Driver column) for round 1:\n",
      "['ALB' 'ALO' 'BOT' 'GAS' 'HAM' 'HUL' 'LEC' 'MAG' 'NOR' 'OCO' 'PER' 'PIA'\n",
      " 'RIC' 'RUS' 'SAI' 'SAR' 'STR' 'TSU' 'VER' 'ZHO']\n",
      "⚠️ Telemetry missing for round 1 — skipping telemetry columns.\n"
     ]
    },
    {
     "name": "stderr",
     "output_type": "stream",
     "text": [
      "req            INFO \tUsing cached data for session_status_data\n",
      "req            INFO \tUsing cached data for track_status_data\n",
      "req            INFO \tUsing cached data for _extended_timing_data\n",
      "req            INFO \tUsing cached data for timing_app_data\n",
      "core           INFO \tProcessing timing data...\n",
      "req            INFO \tUsing cached data for car_data\n",
      "req            INFO \tUsing cached data for position_data\n",
      "req            INFO \tUsing cached data for weather_data\n",
      "req            INFO \tUsing cached data for race_control_messages\n",
      "core           INFO \tFinished loading data for 20 drivers: ['1', '16', '11', '14', '81', '4', '63', '44', '22', '18', '38', '23', '20', '3', '27', '77', '31', '10', '2', '24']\n",
      "Processing Rounds:   9%|█████▊                                                          | 2/22 [00:03<00:38,  1.93s/it]core           INFO \tLoading data for Australian Grand Prix - Qualifying [v3.5.3]\n",
      "req            INFO \tUsing cached data for session_info\n",
      "req            INFO \tUsing cached data for driver_info\n"
     ]
    },
    {
     "name": "stdout",
     "output_type": "stream",
     "text": [
      "🔎 Best laps (Driver column) for round 2:\n",
      "['ALB' 'ALO' 'BEA' 'BOT' 'GAS' 'HAM' 'HUL' 'LEC' 'MAG' 'NOR' 'OCO' 'PER'\n",
      " 'PIA' 'RIC' 'RUS' 'SAR' 'STR' 'TSU' 'VER']\n",
      "⚠️ Telemetry missing for round 2 — skipping telemetry columns.\n"
     ]
    },
    {
     "name": "stderr",
     "output_type": "stream",
     "text": [
      "req            INFO \tUsing cached data for session_status_data\n",
      "req            INFO \tUsing cached data for track_status_data\n",
      "req            INFO \tUsing cached data for _extended_timing_data\n",
      "req            INFO \tUsing cached data for timing_app_data\n",
      "core           INFO \tProcessing timing data...\n",
      "req            INFO \tUsing cached data for car_data\n",
      "req            INFO \tUsing cached data for position_data\n",
      "req            INFO \tUsing cached data for weather_data\n",
      "req            INFO \tUsing cached data for race_control_messages\n",
      "core           INFO \tFinished loading data for 19 drivers: ['1', '55', '11', '4', '16', '81', '63', '22', '18', '14', '44', '23', '77', '20', '31', '27', '10', '3', '24']\n",
      "Processing Rounds:  14%|████████▋                                                       | 3/22 [00:05<00:34,  1.81s/it]core           INFO \tLoading data for Japanese Grand Prix - Qualifying [v3.5.3]\n",
      "req            INFO \tUsing cached data for session_info\n",
      "req            INFO \tUsing cached data for driver_info\n"
     ]
    },
    {
     "name": "stdout",
     "output_type": "stream",
     "text": [
      "🔎 Best laps (Driver column) for round 3:\n",
      "['ALB' 'ALO' 'BOT' 'GAS' 'HAM' 'HUL' 'LEC' 'MAG' 'NOR' 'OCO' 'PER' 'PIA'\n",
      " 'RIC' 'RUS' 'SAI' 'STR' 'TSU' 'VER' 'ZHO']\n",
      "⚠️ Telemetry missing for round 3 — skipping telemetry columns.\n"
     ]
    },
    {
     "name": "stderr",
     "output_type": "stream",
     "text": [
      "req            INFO \tUsing cached data for session_status_data\n",
      "req            INFO \tUsing cached data for track_status_data\n",
      "req            INFO \tUsing cached data for _extended_timing_data\n",
      "req            INFO \tUsing cached data for timing_app_data\n",
      "core           INFO \tProcessing timing data...\n",
      "req            INFO \tUsing cached data for car_data\n",
      "req            INFO \tUsing cached data for position_data\n",
      "req            INFO \tUsing cached data for weather_data\n",
      "req            INFO \tUsing cached data for race_control_messages\n",
      "core           INFO \tFinished loading data for 20 drivers: ['1', '11', '4', '55', '14', '81', '44', '16', '63', '22', '3', '27', '77', '23', '31', '18', '10', '20', '2', '24']\n",
      "Processing Rounds:  18%|███████████▋                                                    | 4/22 [00:07<00:30,  1.69s/it]core           INFO \tLoading data for Chinese Grand Prix - Qualifying [v3.5.3]\n",
      "req            INFO \tUsing cached data for session_info\n",
      "req            INFO \tUsing cached data for driver_info\n"
     ]
    },
    {
     "name": "stdout",
     "output_type": "stream",
     "text": [
      "🔎 Best laps (Driver column) for round 4:\n",
      "['ALB' 'ALO' 'BOT' 'GAS' 'HAM' 'HUL' 'LEC' 'MAG' 'NOR' 'OCO' 'PER' 'PIA'\n",
      " 'RIC' 'RUS' 'SAI' 'SAR' 'STR' 'TSU' 'VER' 'ZHO']\n",
      "⚠️ Telemetry missing for round 4 — skipping telemetry columns.\n"
     ]
    },
    {
     "name": "stderr",
     "output_type": "stream",
     "text": [
      "req            INFO \tUsing cached data for session_status_data\n",
      "req            INFO \tUsing cached data for track_status_data\n",
      "req            INFO \tUsing cached data for _extended_timing_data\n",
      "req            INFO \tUsing cached data for timing_app_data\n",
      "core           INFO \tProcessing timing data...\n",
      "req            INFO \tUsing cached data for car_data\n",
      "req            INFO \tUsing cached data for position_data\n",
      "req            INFO \tUsing cached data for weather_data\n",
      "req            INFO \tUsing cached data for race_control_messages\n",
      "core           INFO \tFinished loading data for 20 drivers: ['1', '11', '14', '4', '81', '16', '55', '63', '27', '77', '18', '3', '31', '23', '10', '24', '20', '44', '22', '2']\n",
      "Processing Rounds:  23%|██████████████▌                                                 | 5/22 [00:08<00:29,  1.71s/it]core           INFO \tLoading data for Miami Grand Prix - Qualifying [v3.5.3]\n",
      "req            INFO \tUsing cached data for session_info\n",
      "req            INFO \tUsing cached data for driver_info\n"
     ]
    },
    {
     "name": "stdout",
     "output_type": "stream",
     "text": [
      "🔎 Best laps (Driver column) for round 5:\n",
      "['ALB' 'ALO' 'BOT' 'GAS' 'HAM' 'HUL' 'LEC' 'MAG' 'NOR' 'OCO' 'PER' 'PIA'\n",
      " 'RIC' 'RUS' 'SAI' 'SAR' 'STR' 'TSU' 'VER' 'ZHO']\n",
      "⚠️ Telemetry missing for round 5 — skipping telemetry columns.\n"
     ]
    },
    {
     "name": "stderr",
     "output_type": "stream",
     "text": [
      "req            INFO \tUsing cached data for session_status_data\n",
      "req            INFO \tUsing cached data for track_status_data\n",
      "req            INFO \tUsing cached data for _extended_timing_data\n",
      "req            INFO \tUsing cached data for timing_app_data\n",
      "core           INFO \tProcessing timing data...\n",
      "req            INFO \tUsing cached data for car_data\n",
      "req            INFO \tUsing cached data for position_data\n",
      "req            INFO \tUsing cached data for weather_data\n",
      "req            INFO \tUsing cached data for race_control_messages\n",
      "core           INFO \tFinished loading data for 20 drivers: ['1', '16', '55', '11', '4', '81', '63', '44', '27', '22', '18', '10', '31', '23', '14', '77', '2', '3', '20', '24']\n",
      "Processing Rounds:  27%|█████████████████▍                                              | 6/22 [00:10<00:27,  1.72s/it]core           INFO \tLoading data for Emilia Romagna Grand Prix - Qualifying [v3.5.3]\n",
      "req            INFO \tUsing cached data for session_info\n",
      "req            INFO \tUsing cached data for driver_info\n"
     ]
    },
    {
     "name": "stdout",
     "output_type": "stream",
     "text": [
      "🔎 Best laps (Driver column) for round 6:\n",
      "['ALB' 'ALO' 'BOT' 'GAS' 'HAM' 'HUL' 'LEC' 'MAG' 'NOR' 'OCO' 'PER' 'PIA'\n",
      " 'RIC' 'RUS' 'SAI' 'SAR' 'STR' 'TSU' 'VER' 'ZHO']\n",
      "⚠️ Telemetry missing for round 6 — skipping telemetry columns.\n"
     ]
    },
    {
     "name": "stderr",
     "output_type": "stream",
     "text": [
      "req            INFO \tUsing cached data for session_status_data\n",
      "req            INFO \tUsing cached data for track_status_data\n",
      "req            INFO \tUsing cached data for _extended_timing_data\n",
      "req            INFO \tUsing cached data for timing_app_data\n",
      "core           INFO \tProcessing timing data...\n",
      "core        WARNING \tDriver  2: Lap timing integrity check failed for 1 lap(s)\n",
      "req            INFO \tUsing cached data for car_data\n",
      "req            INFO \tUsing cached data for position_data\n",
      "req            INFO \tUsing cached data for weather_data\n",
      "req            INFO \tUsing cached data for race_control_messages\n",
      "core           INFO \tFinished loading data for 20 drivers: ['1', '81', '4', '16', '55', '63', '22', '44', '3', '27', '11', '31', '18', '23', '10', '77', '24', '20', '14', '2']\n",
      "Processing Rounds:  32%|████████████████████▎                                           | 7/22 [00:12<00:25,  1.67s/it]core           INFO \tLoading data for Monaco Grand Prix - Qualifying [v3.5.3]\n",
      "req            INFO \tUsing cached data for session_info\n",
      "req            INFO \tUsing cached data for driver_info\n"
     ]
    },
    {
     "name": "stdout",
     "output_type": "stream",
     "text": [
      "🔎 Best laps (Driver column) for round 7:\n",
      "['ALB' 'ALO' 'BOT' 'GAS' 'HAM' 'HUL' 'LEC' 'MAG' 'NOR' 'OCO' 'PER' 'PIA'\n",
      " 'RIC' 'RUS' 'SAI' 'SAR' 'STR' 'TSU' 'VER' 'ZHO']\n",
      "⚠️ Telemetry missing for round 7 — skipping telemetry columns.\n"
     ]
    },
    {
     "name": "stderr",
     "output_type": "stream",
     "text": [
      "req            INFO \tUsing cached data for session_status_data\n",
      "req            INFO \tUsing cached data for track_status_data\n",
      "req            INFO \tUsing cached data for _extended_timing_data\n",
      "req            INFO \tUsing cached data for timing_app_data\n",
      "core           INFO \tProcessing timing data...\n",
      "core        WARNING \tDriver  3: Lap timing integrity check failed for 1 lap(s)\n",
      "req            INFO \tUsing cached data for car_data\n",
      "req            INFO \tUsing cached data for position_data\n",
      "req            INFO \tUsing cached data for weather_data\n",
      "req            INFO \tUsing cached data for race_control_messages\n",
      "core           INFO \tFinished loading data for 20 drivers: ['16', '81', '55', '4', '63', '1', '44', '22', '23', '10', '31', '3', '18', '27', '14', '2', '20', '11', '77', '24']\n",
      "Processing Rounds:  36%|███████████████████████▎                                        | 8/22 [00:13<00:23,  1.70s/it]core           INFO \tLoading data for Canadian Grand Prix - Qualifying [v3.5.3]\n",
      "req            INFO \tUsing cached data for session_info\n",
      "req            INFO \tUsing cached data for driver_info\n"
     ]
    },
    {
     "name": "stdout",
     "output_type": "stream",
     "text": [
      "🔎 Best laps (Driver column) for round 8:\n",
      "['ALB' 'ALO' 'BOT' 'GAS' 'HAM' 'HUL' 'LEC' 'MAG' 'NOR' 'OCO' 'PER' 'PIA'\n",
      " 'RIC' 'RUS' 'SAI' 'SAR' 'STR' 'TSU' 'VER' 'ZHO']\n",
      "⚠️ Telemetry missing for round 8 — skipping telemetry columns.\n"
     ]
    },
    {
     "name": "stderr",
     "output_type": "stream",
     "text": [
      "req            INFO \tUsing cached data for session_status_data\n",
      "req            INFO \tUsing cached data for track_status_data\n",
      "req            INFO \tUsing cached data for _extended_timing_data\n",
      "req            INFO \tUsing cached data for timing_app_data\n",
      "core           INFO \tProcessing timing data...\n",
      "req            INFO \tUsing cached data for car_data\n",
      "req            INFO \tUsing cached data for position_data\n",
      "req            INFO \tUsing cached data for weather_data\n",
      "req            INFO \tUsing cached data for race_control_messages\n",
      "core           INFO \tFinished loading data for 20 drivers: ['63', '1', '4', '81', '3', '14', '44', '22', '18', '23', '16', '55', '2', '20', '10', '11', '77', '31', '27', '24']\n",
      "Processing Rounds:  41%|██████████████████████████▏                                     | 9/22 [00:15<00:22,  1.75s/it]core           INFO \tLoading data for Spanish Grand Prix - Qualifying [v3.5.3]\n",
      "req            INFO \tUsing cached data for session_info\n",
      "req            INFO \tUsing cached data for driver_info\n"
     ]
    },
    {
     "name": "stdout",
     "output_type": "stream",
     "text": [
      "🔎 Best laps (Driver column) for round 9:\n",
      "['ALB' 'ALO' 'BOT' 'GAS' 'HAM' 'HUL' 'LEC' 'MAG' 'NOR' 'OCO' 'PER' 'PIA'\n",
      " 'RIC' 'RUS' 'SAI' 'SAR' 'STR' 'TSU' 'VER' 'ZHO']\n",
      "⚠️ Telemetry missing for round 9 — skipping telemetry columns.\n"
     ]
    },
    {
     "name": "stderr",
     "output_type": "stream",
     "text": [
      "req            INFO \tUsing cached data for session_status_data\n",
      "req            INFO \tUsing cached data for track_status_data\n",
      "req            INFO \tUsing cached data for _extended_timing_data\n",
      "req            INFO \tUsing cached data for timing_app_data\n",
      "core           INFO \tProcessing timing data...\n",
      "req            INFO \tUsing cached data for car_data\n",
      "req            INFO \tUsing cached data for position_data\n",
      "req            INFO \tUsing cached data for weather_data\n",
      "req            INFO \tUsing cached data for race_control_messages\n",
      "core           INFO \tFinished loading data for 20 drivers: ['4', '1', '44', '63', '16', '55', '10', '11', '31', '81', '14', '77', '27', '18', '24', '20', '22', '3', '23', '2']\n",
      "Processing Rounds:  45%|████████████████████████████▋                                  | 10/22 [00:17<00:20,  1.71s/it]core           INFO \tLoading data for Austrian Grand Prix - Qualifying [v3.5.3]\n",
      "req            INFO \tUsing cached data for session_info\n",
      "req            INFO \tUsing cached data for driver_info\n"
     ]
    },
    {
     "name": "stdout",
     "output_type": "stream",
     "text": [
      "🔎 Best laps (Driver column) for round 10:\n",
      "['ALB' 'ALO' 'BOT' 'GAS' 'HAM' 'HUL' 'LEC' 'MAG' 'NOR' 'OCO' 'PER' 'PIA'\n",
      " 'RIC' 'RUS' 'SAI' 'SAR' 'STR' 'TSU' 'VER' 'ZHO']\n",
      "⚠️ Telemetry missing for round 10 — skipping telemetry columns.\n"
     ]
    },
    {
     "name": "stderr",
     "output_type": "stream",
     "text": [
      "req            INFO \tUsing cached data for session_status_data\n",
      "req            INFO \tUsing cached data for track_status_data\n",
      "req            INFO \tUsing cached data for _extended_timing_data\n",
      "req            INFO \tUsing cached data for timing_app_data\n",
      "core           INFO \tProcessing timing data...\n",
      "req            INFO \tUsing cached data for car_data\n",
      "req            INFO \tUsing cached data for position_data\n",
      "req            INFO \tUsing cached data for weather_data\n",
      "req            INFO \tUsing cached data for race_control_messages\n",
      "core           INFO \tFinished loading data for 20 drivers: ['1', '4', '63', '55', '44', '16', '81', '11', '27', '31', '3', '20', '10', '22', '14', '23', '18', '77', '2', '24']\n",
      "Processing Rounds:  50%|███████████████████████████████▌                               | 11/22 [00:19<00:18,  1.71s/it]core           INFO \tLoading data for British Grand Prix - Qualifying [v3.5.3]\n",
      "req            INFO \tUsing cached data for session_info\n",
      "req            INFO \tUsing cached data for driver_info\n"
     ]
    },
    {
     "name": "stdout",
     "output_type": "stream",
     "text": [
      "🔎 Best laps (Driver column) for round 11:\n",
      "['ALB' 'ALO' 'BOT' 'GAS' 'HAM' 'HUL' 'LEC' 'MAG' 'NOR' 'OCO' 'PER' 'PIA'\n",
      " 'RIC' 'RUS' 'SAI' 'SAR' 'STR' 'TSU' 'VER' 'ZHO']\n",
      "⚠️ Telemetry missing for round 11 — skipping telemetry columns.\n"
     ]
    },
    {
     "name": "stderr",
     "output_type": "stream",
     "text": [
      "req            INFO \tUsing cached data for session_status_data\n",
      "req            INFO \tUsing cached data for track_status_data\n",
      "req            INFO \tUsing cached data for _extended_timing_data\n",
      "req            INFO \tUsing cached data for timing_app_data\n",
      "core           INFO \tProcessing timing data...\n",
      "req            INFO \tUsing cached data for car_data\n",
      "req            INFO \tUsing cached data for position_data\n",
      "req            INFO \tUsing cached data for weather_data\n",
      "req            INFO \tUsing cached data for race_control_messages\n",
      "core           INFO \tFinished loading data for 20 drivers: ['63', '44', '4', '1', '81', '27', '55', '18', '23', '14', '16', '2', '22', '24', '3', '77', '20', '31', '11', '10']\n",
      "Processing Rounds:  55%|██████████████████████████████████▎                            | 12/22 [00:21<00:17,  1.77s/it]core           INFO \tLoading data for Hungarian Grand Prix - Qualifying [v3.5.3]\n",
      "req            INFO \tUsing cached data for session_info\n",
      "req            INFO \tUsing cached data for driver_info\n"
     ]
    },
    {
     "name": "stdout",
     "output_type": "stream",
     "text": [
      "🔎 Best laps (Driver column) for round 12:\n",
      "['ALB' 'ALO' 'HAM' 'HUL' 'LEC' 'NOR' 'PIA' 'RIC' 'RUS' 'SAI' 'SAR' 'STR'\n",
      " 'TSU' 'VER' 'ZHO']\n",
      "⚠️ Telemetry missing for round 12 — skipping telemetry columns.\n"
     ]
    },
    {
     "name": "stderr",
     "output_type": "stream",
     "text": [
      "req            INFO \tUsing cached data for session_status_data\n",
      "req            INFO \tUsing cached data for track_status_data\n",
      "req            INFO \tUsing cached data for _extended_timing_data\n",
      "req            INFO \tUsing cached data for timing_app_data\n",
      "core           INFO \tProcessing timing data...\n",
      "req            INFO \tUsing cached data for car_data\n",
      "req            INFO \tUsing cached data for position_data\n",
      "req            INFO \tUsing cached data for weather_data\n",
      "req            INFO \tUsing cached data for race_control_messages\n",
      "core           INFO \tFinished loading data for 20 drivers: ['4', '81', '1', '55', '44', '16', '14', '18', '3', '22', '27', '77', '23', '2', '20', '11', '63', '24', '31', '10']\n",
      "Processing Rounds:  59%|█████████████████████████████████████▏                         | 13/22 [00:22<00:16,  1.79s/it]core           INFO \tLoading data for Belgian Grand Prix - Qualifying [v3.5.3]\n",
      "req            INFO \tUsing cached data for session_info\n",
      "req            INFO \tUsing cached data for driver_info\n"
     ]
    },
    {
     "name": "stdout",
     "output_type": "stream",
     "text": [
      "🔎 Best laps (Driver column) for round 13:\n",
      "['ALB' 'ALO' 'BOT' 'GAS' 'HAM' 'HUL' 'LEC' 'MAG' 'NOR' 'OCO' 'PER' 'PIA'\n",
      " 'RIC' 'RUS' 'SAI' 'SAR' 'STR' 'TSU' 'VER' 'ZHO']\n",
      "⚠️ Telemetry missing for round 13 — skipping telemetry columns.\n"
     ]
    },
    {
     "name": "stderr",
     "output_type": "stream",
     "text": [
      "req            INFO \tUsing cached data for session_status_data\n",
      "req            INFO \tUsing cached data for track_status_data\n",
      "req            INFO \tUsing cached data for _extended_timing_data\n",
      "req            INFO \tUsing cached data for timing_app_data\n",
      "core           INFO \tProcessing timing data...\n",
      "req            INFO \tUsing cached data for car_data\n",
      "req            INFO \tUsing cached data for position_data\n",
      "req            INFO \tUsing cached data for weather_data\n",
      "req            INFO \tUsing cached data for race_control_messages\n",
      "core           INFO \tFinished loading data for 20 drivers: ['1', '16', '11', '44', '4', '81', '63', '55', '14', '31', '23', '10', '3', '77', '18', '27', '20', '22', '2', '24']\n",
      "Processing Rounds:  64%|████████████████████████████████████████                       | 14/22 [00:24<00:14,  1.75s/it]core           INFO \tLoading data for Dutch Grand Prix - Qualifying [v3.5.3]\n",
      "req            INFO \tUsing cached data for session_info\n",
      "req            INFO \tUsing cached data for driver_info\n"
     ]
    },
    {
     "name": "stdout",
     "output_type": "stream",
     "text": [
      "🔎 Best laps (Driver column) for round 14:\n",
      "['ALB' 'ALO' 'BOT' 'GAS' 'HAM' 'HUL' 'LEC' 'MAG' 'NOR' 'OCO' 'PER' 'PIA'\n",
      " 'RIC' 'RUS' 'SAI' 'SAR' 'STR' 'TSU' 'VER' 'ZHO']\n",
      "⚠️ Telemetry missing for round 14 — skipping telemetry columns.\n"
     ]
    },
    {
     "name": "stderr",
     "output_type": "stream",
     "text": [
      "req            INFO \tUsing cached data for session_status_data\n",
      "req            INFO \tUsing cached data for track_status_data\n",
      "req            INFO \tUsing cached data for _extended_timing_data\n",
      "req            INFO \tUsing cached data for timing_app_data\n",
      "core           INFO \tProcessing timing data...\n",
      "core        WARNING \tNo lap data for driver 2\n",
      "core        WARNING \tFailed to perform lap accuracy check - all laps marked as inaccurate (driver 2)\n",
      "req            INFO \tUsing cached data for car_data\n",
      "req            INFO \tUsing cached data for position_data\n",
      "req            INFO \tUsing cached data for weather_data\n",
      "req            INFO \tUsing cached data for race_control_messages\n",
      "core           INFO \tFinished loading data for 20 drivers: ['4', '1', '81', '63', '11', '16', '14', '18', '10', '55', '23', '44', '22', '27', '20', '3', '31', '77', '24', '2']\n",
      "Processing Rounds:  68%|██████████████████████████████████████████▉                    | 15/22 [00:26<00:12,  1.82s/it]core           INFO \tLoading data for Italian Grand Prix - Qualifying [v3.5.3]\n",
      "req            INFO \tUsing cached data for session_info\n",
      "req            INFO \tUsing cached data for driver_info\n"
     ]
    },
    {
     "name": "stdout",
     "output_type": "stream",
     "text": [
      "🔎 Best laps (Driver column) for round 15:\n",
      "['ALB' 'ALO' 'BOT' 'GAS' 'HAM' 'HUL' 'LEC' 'MAG' 'NOR' 'OCO' 'PER' 'PIA'\n",
      " 'RIC' 'RUS' 'SAI' 'STR' 'TSU' 'VER' 'ZHO']\n",
      "⚠️ Telemetry missing for round 15 — skipping telemetry columns.\n"
     ]
    },
    {
     "name": "stderr",
     "output_type": "stream",
     "text": [
      "req            INFO \tUsing cached data for session_status_data\n",
      "req            INFO \tUsing cached data for track_status_data\n",
      "req            INFO \tUsing cached data for _extended_timing_data\n",
      "req            INFO \tUsing cached data for timing_app_data\n",
      "core           INFO \tProcessing timing data...\n",
      "req            INFO \tUsing cached data for car_data\n",
      "req            INFO \tUsing cached data for position_data\n",
      "req            INFO \tUsing cached data for weather_data\n",
      "req            INFO \tUsing cached data for race_control_messages\n",
      "core           INFO \tFinished loading data for 20 drivers: ['4', '81', '63', '16', '55', '44', '1', '11', '23', '27', '14', '3', '20', '10', '31', '22', '18', '43', '77', '24']\n",
      "Processing Rounds:  73%|█████████████████████████████████████████████▊                 | 16/22 [00:28<00:10,  1.77s/it]core           INFO \tLoading data for Azerbaijan Grand Prix - Qualifying [v3.5.3]\n",
      "req            INFO \tUsing cached data for session_info\n",
      "req            INFO \tUsing cached data for driver_info\n"
     ]
    },
    {
     "name": "stdout",
     "output_type": "stream",
     "text": [
      "🔎 Best laps (Driver column) for round 16:\n",
      "['ALB' 'ALO' 'BOT' 'COL' 'GAS' 'HAM' 'HUL' 'LEC' 'MAG' 'NOR' 'OCO' 'PER'\n",
      " 'PIA' 'RIC' 'RUS' 'SAI' 'STR' 'TSU' 'VER' 'ZHO']\n",
      "⚠️ Telemetry missing for round 16 — skipping telemetry columns.\n"
     ]
    },
    {
     "name": "stderr",
     "output_type": "stream",
     "text": [
      "req            INFO \tUsing cached data for session_status_data\n",
      "req            INFO \tUsing cached data for track_status_data\n",
      "req            INFO \tUsing cached data for _extended_timing_data\n",
      "req            INFO \tUsing cached data for timing_app_data\n",
      "core           INFO \tProcessing timing data...\n",
      "req            INFO \tUsing cached data for car_data\n",
      "req            INFO \tUsing cached data for position_data\n",
      "req            INFO \tUsing cached data for weather_data\n",
      "req            INFO \tUsing cached data for race_control_messages\n",
      "core           INFO \tFinished loading data for 20 drivers: ['16', '81', '55', '11', '63', '1', '44', '14', '43', '23', '50', '22', '27', '18', '3', '10', '4', '77', '24', '31']\n",
      "Processing Rounds:  77%|████████████████████████████████████████████████▋              | 17/22 [00:29<00:08,  1.74s/it]core           INFO \tLoading data for Singapore Grand Prix - Qualifying [v3.5.3]\n",
      "req            INFO \tUsing cached data for session_info\n",
      "req            INFO \tUsing cached data for driver_info\n"
     ]
    },
    {
     "name": "stdout",
     "output_type": "stream",
     "text": [
      "🔎 Best laps (Driver column) for round 17:\n",
      "['ALB' 'ALO' 'BEA' 'BOT' 'COL' 'GAS' 'HAM' 'HUL' 'LEC' 'NOR' 'OCO' 'PER'\n",
      " 'PIA' 'RIC' 'RUS' 'SAI' 'STR' 'TSU' 'VER' 'ZHO']\n",
      "⚠️ Telemetry missing for round 17 — skipping telemetry columns.\n"
     ]
    },
    {
     "name": "stderr",
     "output_type": "stream",
     "text": [
      "req            INFO \tUsing cached data for session_status_data\n",
      "req            INFO \tUsing cached data for track_status_data\n",
      "req            INFO \tUsing cached data for _extended_timing_data\n",
      "req            INFO \tUsing cached data for timing_app_data\n",
      "core           INFO \tProcessing timing data...\n",
      "req            INFO \tUsing cached data for car_data\n",
      "req            INFO \tUsing cached data for position_data\n",
      "req            INFO \tUsing cached data for weather_data\n",
      "req            INFO \tUsing cached data for race_control_messages\n",
      "core           INFO \tFinished loading data for 20 drivers: ['4', '1', '44', '63', '81', '27', '14', '22', '16', '55', '23', '43', '11', '20', '31', '3', '18', '10', '77', '24']\n",
      "Processing Rounds:  82%|███████████████████████████████████████████████████▌           | 18/22 [00:31<00:07,  1.78s/it]core           INFO \tLoading data for United States Grand Prix - Qualifying [v3.5.3]\n",
      "req            INFO \tUsing cached data for session_info\n",
      "req            INFO \tUsing cached data for driver_info\n"
     ]
    },
    {
     "name": "stdout",
     "output_type": "stream",
     "text": [
      "🔎 Best laps (Driver column) for round 18:\n",
      "['ALB' 'ALO' 'BOT' 'COL' 'GAS' 'HAM' 'HUL' 'LEC' 'MAG' 'NOR' 'OCO' 'PER'\n",
      " 'PIA' 'RIC' 'RUS' 'SAI' 'STR' 'TSU' 'VER' 'ZHO']\n",
      "⚠️ Telemetry missing for round 18 — skipping telemetry columns.\n"
     ]
    },
    {
     "name": "stderr",
     "output_type": "stream",
     "text": [
      "req            INFO \tUsing cached data for session_status_data\n",
      "req            INFO \tUsing cached data for track_status_data\n",
      "req            INFO \tUsing cached data for _extended_timing_data\n",
      "req            INFO \tUsing cached data for timing_app_data\n",
      "core           INFO \tProcessing timing data...\n",
      "req            INFO \tUsing cached data for car_data\n",
      "req            INFO \tUsing cached data for position_data\n",
      "req            INFO \tUsing cached data for weather_data\n",
      "req            INFO \tUsing cached data for race_control_messages\n",
      "core           INFO \tFinished loading data for 20 drivers: ['4', '1', '55', '16', '81', '63', '10', '14', '20', '11', '22', '27', '31', '18', '30', '23', '43', '77', '44', '24']\n",
      "Processing Rounds:  86%|██████████████████████████████████████████████████████▍        | 19/22 [00:35<00:07,  2.39s/it]core           INFO \tLoading data for Mexico City Grand Prix - Qualifying [v3.5.3]\n",
      "req            INFO \tUsing cached data for session_info\n",
      "req            INFO \tUsing cached data for driver_info\n"
     ]
    },
    {
     "name": "stdout",
     "output_type": "stream",
     "text": [
      "🔎 Best laps (Driver column) for round 19:\n",
      "['ALB' 'ALO' 'BOT' 'COL' 'GAS' 'HAM' 'HUL' 'LAW' 'LEC' 'MAG' 'NOR' 'OCO'\n",
      " 'PER' 'PIA' 'RUS' 'SAI' 'STR' 'TSU' 'VER' 'ZHO']\n",
      "⚠️ Telemetry missing for round 19 — skipping telemetry columns.\n"
     ]
    },
    {
     "name": "stderr",
     "output_type": "stream",
     "text": [
      "req            INFO \tUsing cached data for session_status_data\n",
      "req            INFO \tUsing cached data for track_status_data\n",
      "req            INFO \tUsing cached data for _extended_timing_data\n",
      "req            INFO \tUsing cached data for timing_app_data\n",
      "core           INFO \tProcessing timing data...\n",
      "req            INFO \tUsing cached data for car_data\n",
      "req            INFO \tUsing cached data for position_data\n",
      "req            INFO \tUsing cached data for weather_data\n",
      "req            INFO \tUsing cached data for race_control_messages\n",
      "core           INFO \tFinished loading data for 20 drivers: ['55', '1', '4', '16', '63', '44', '20', '10', '23', '27', '22', '30', '14', '18', '77', '43', '81', '11', '31', '24']\n",
      "Processing Rounds:  91%|█████████████████████████████████████████████████████████▎     | 20/22 [00:37<00:04,  2.25s/it]core           INFO \tLoading data for São Paulo Grand Prix - Qualifying [v3.5.3]\n",
      "req            INFO \tUsing cached data for session_info\n",
      "req            INFO \tUsing cached data for driver_info\n"
     ]
    },
    {
     "name": "stdout",
     "output_type": "stream",
     "text": [
      "🔎 Best laps (Driver column) for round 20:\n",
      "['ALB' 'ALO' 'BOT' 'COL' 'GAS' 'HAM' 'HUL' 'LAW' 'LEC' 'MAG' 'NOR' 'OCO'\n",
      " 'PER' 'PIA' 'RUS' 'SAI' 'STR' 'TSU' 'VER' 'ZHO']\n",
      "⚠️ Telemetry missing for round 20 — skipping telemetry columns.\n"
     ]
    },
    {
     "name": "stderr",
     "output_type": "stream",
     "text": [
      "req            INFO \tUsing cached data for session_status_data\n",
      "req            INFO \tUsing cached data for track_status_data\n",
      "req            INFO \tUsing cached data for _extended_timing_data\n",
      "req            INFO \tUsing cached data for timing_app_data\n",
      "core           INFO \tProcessing timing data...\n",
      "req            INFO \tUsing cached data for car_data\n",
      "req            INFO \tUsing cached data for position_data\n",
      "req            INFO \tUsing cached data for weather_data\n",
      "req            INFO \tUsing cached data for race_control_messages\n",
      "core           INFO \tFinished loading data for 20 drivers: ['4', '63', '22', '31', '30', '16', '23', '81', '14', '18', '77', '1', '11', '55', '10', '44', '50', '43', '27', '24']\n",
      "Processing Rounds:  95%|████████████████████████████████████████████████████████████▏  | 21/22 [00:39<00:02,  2.30s/it]core           INFO \tLoading data for Las Vegas Grand Prix - Qualifying [v3.5.3]\n",
      "req            INFO \tUsing cached data for session_info\n",
      "req            INFO \tUsing cached data for driver_info\n"
     ]
    },
    {
     "name": "stdout",
     "output_type": "stream",
     "text": [
      "🔎 Best laps (Driver column) for round 21:\n",
      "['ALB' 'ALO' 'BOT' 'LAW' 'LEC' 'NOR' 'OCO' 'PER' 'PIA' 'RUS' 'STR' 'TSU'\n",
      " 'VER']\n",
      "⚠️ Telemetry missing for round 21 — skipping telemetry columns.\n"
     ]
    },
    {
     "name": "stderr",
     "output_type": "stream",
     "text": [
      "req            INFO \tUsing cached data for session_status_data\n",
      "req            INFO \tUsing cached data for track_status_data\n",
      "req            INFO \tUsing cached data for _extended_timing_data\n",
      "req            INFO \tUsing cached data for timing_app_data\n",
      "core           INFO \tProcessing timing data...\n",
      "req            INFO \tUsing cached data for car_data\n",
      "req            INFO \tUsing cached data for position_data\n",
      "req            INFO \tUsing cached data for weather_data\n",
      "req            INFO \tUsing cached data for race_control_messages\n",
      "core           INFO \tFinished loading data for 20 drivers: ['63', '55', '10', '16', '1', '4', '22', '81', '27', '44', '31', '20', '24', '43', '30', '11', '14', '23', '77', '18']\n",
      "Processing Rounds: 100%|███████████████████████████████████████████████████████████████| 22/22 [00:41<00:00,  1.90s/it]"
     ]
    },
    {
     "name": "stdout",
     "output_type": "stream",
     "text": [
      "🔎 Best laps (Driver column) for round 22:\n",
      "['ALB' 'ALO' 'BOT' 'COL' 'GAS' 'HAM' 'HUL' 'LAW' 'LEC' 'MAG' 'NOR' 'OCO'\n",
      " 'PER' 'PIA' 'RUS' 'SAI' 'STR' 'TSU' 'VER' 'ZHO']\n",
      "⚠️ Telemetry missing for round 22 — skipping telemetry columns.\n",
      "⚠️ No telemetry data found — skipping telemetry merge.\n",
      "✅ Enriched dataset saved as 'f1_features_2024_enriched.csv'\n"
     ]
    },
    {
     "name": "stderr",
     "output_type": "stream",
     "text": [
      "\n"
     ]
    },
    {
     "data": {
      "text/html": [
       "<div>\n",
       "<style scoped>\n",
       "    .dataframe tbody tr th:only-of-type {\n",
       "        vertical-align: middle;\n",
       "    }\n",
       "\n",
       "    .dataframe tbody tr th {\n",
       "        vertical-align: top;\n",
       "    }\n",
       "\n",
       "    .dataframe thead th {\n",
       "        text-align: right;\n",
       "    }\n",
       "</style>\n",
       "<table border=\"1\" class=\"dataframe\">\n",
       "  <thead>\n",
       "    <tr style=\"text-align: right;\">\n",
       "      <th></th>\n",
       "      <th>date</th>\n",
       "      <th>season</th>\n",
       "      <th>round</th>\n",
       "      <th>circuit</th>\n",
       "      <th>driver</th>\n",
       "      <th>constructor</th>\n",
       "      <th>grid</th>\n",
       "      <th>position</th>\n",
       "      <th>qualifying_time</th>\n",
       "      <th>air_temp</th>\n",
       "      <th>track_temp</th>\n",
       "      <th>humidity</th>\n",
       "    </tr>\n",
       "  </thead>\n",
       "  <tbody>\n",
       "    <tr>\n",
       "      <th>0</th>\n",
       "      <td>2024-03-02</td>\n",
       "      <td>2024</td>\n",
       "      <td>1</td>\n",
       "      <td>Bahrain Grand Prix</td>\n",
       "      <td>Max Verstappen</td>\n",
       "      <td>Red Bull Racing</td>\n",
       "      <td>1.0</td>\n",
       "      <td>1.0</td>\n",
       "      <td>89.179</td>\n",
       "      <td>18.2</td>\n",
       "      <td>22.2</td>\n",
       "      <td>48.0</td>\n",
       "    </tr>\n",
       "    <tr>\n",
       "      <th>1</th>\n",
       "      <td>2024-03-02</td>\n",
       "      <td>2024</td>\n",
       "      <td>1</td>\n",
       "      <td>Bahrain Grand Prix</td>\n",
       "      <td>Sergio Perez</td>\n",
       "      <td>Red Bull Racing</td>\n",
       "      <td>5.0</td>\n",
       "      <td>2.0</td>\n",
       "      <td>89.537</td>\n",
       "      <td>18.2</td>\n",
       "      <td>22.2</td>\n",
       "      <td>48.0</td>\n",
       "    </tr>\n",
       "    <tr>\n",
       "      <th>2</th>\n",
       "      <td>2024-03-02</td>\n",
       "      <td>2024</td>\n",
       "      <td>1</td>\n",
       "      <td>Bahrain Grand Prix</td>\n",
       "      <td>Carlos Sainz</td>\n",
       "      <td>Ferrari</td>\n",
       "      <td>4.0</td>\n",
       "      <td>3.0</td>\n",
       "      <td>89.507</td>\n",
       "      <td>18.2</td>\n",
       "      <td>22.2</td>\n",
       "      <td>48.0</td>\n",
       "    </tr>\n",
       "    <tr>\n",
       "      <th>3</th>\n",
       "      <td>2024-03-02</td>\n",
       "      <td>2024</td>\n",
       "      <td>1</td>\n",
       "      <td>Bahrain Grand Prix</td>\n",
       "      <td>Charles Leclerc</td>\n",
       "      <td>Ferrari</td>\n",
       "      <td>2.0</td>\n",
       "      <td>4.0</td>\n",
       "      <td>89.165</td>\n",
       "      <td>18.2</td>\n",
       "      <td>22.2</td>\n",
       "      <td>48.0</td>\n",
       "    </tr>\n",
       "    <tr>\n",
       "      <th>4</th>\n",
       "      <td>2024-03-02</td>\n",
       "      <td>2024</td>\n",
       "      <td>1</td>\n",
       "      <td>Bahrain Grand Prix</td>\n",
       "      <td>George Russell</td>\n",
       "      <td>Mercedes</td>\n",
       "      <td>3.0</td>\n",
       "      <td>5.0</td>\n",
       "      <td>89.485</td>\n",
       "      <td>18.2</td>\n",
       "      <td>22.2</td>\n",
       "      <td>48.0</td>\n",
       "    </tr>\n",
       "  </tbody>\n",
       "</table>\n",
       "</div>"
      ],
      "text/plain": [
       "        date  season  round             circuit           driver  \\\n",
       "0 2024-03-02    2024      1  Bahrain Grand Prix   Max Verstappen   \n",
       "1 2024-03-02    2024      1  Bahrain Grand Prix     Sergio Perez   \n",
       "2 2024-03-02    2024      1  Bahrain Grand Prix     Carlos Sainz   \n",
       "3 2024-03-02    2024      1  Bahrain Grand Prix  Charles Leclerc   \n",
       "4 2024-03-02    2024      1  Bahrain Grand Prix   George Russell   \n",
       "\n",
       "       constructor  grid  position  qualifying_time  air_temp  track_temp  \\\n",
       "0  Red Bull Racing   1.0       1.0           89.179      18.2        22.2   \n",
       "1  Red Bull Racing   5.0       2.0           89.537      18.2        22.2   \n",
       "2          Ferrari   4.0       3.0           89.507      18.2        22.2   \n",
       "3          Ferrari   2.0       4.0           89.165      18.2        22.2   \n",
       "4         Mercedes   3.0       5.0           89.485      18.2        22.2   \n",
       "\n",
       "   humidity  \n",
       "0      48.0  \n",
       "1      48.0  \n",
       "2      48.0  \n",
       "3      48.0  \n",
       "4      48.0  "
      ]
     },
     "execution_count": 1,
     "metadata": {},
     "output_type": "execute_result"
    }
   ],
   "source": [
    "# 📒 02_build_features_fastf1.ipynb\n",
    "# Enrich 2025 race data with qualifying times, weather, and optional telemetry features\n",
    "\n",
    "import fastf1\n",
    "import pandas as pd\n",
    "from tqdm import tqdm\n",
    "from fastf1.core import Laps\n",
    "from datetime import datetime\n",
    "\n",
    "# Enable FastF1 cache\n",
    "fastf1.Cache.enable_cache(\"../cache\")\n",
    "\n",
    "# Load base dataset\n",
    "df = pd.read_csv(\"../data/f1_features_2025_fastf1.csv\")\n",
    "df['date'] = pd.to_datetime(df['date'])\n",
    "\n",
    "# Extract unique rounds to process\n",
    "rounds = df['round'].unique()\n",
    "season = 2024\n",
    "\n",
    "# New feature containers\n",
    "qualifying_times = []\n",
    "weather_data = []\n",
    "telemetry_data = []\n",
    "\n",
    "for rnd in tqdm(rounds, desc=\"Processing Rounds\"):\n",
    "    try:\n",
    "        session_q = fastf1.get_session(season, rnd, 'Q')\n",
    "        session_q.load()\n",
    "\n",
    "        # 1. Build full name lookup from session results\n",
    "        full_name_lookup = session_q.results.set_index('Abbreviation')['FullName'].to_dict()\n",
    "\n",
    "        # 2. Get best lap time per driver\n",
    "        laps_q = session_q.laps.pick_quicklaps()\n",
    "        best_laps = laps_q.groupby('Driver')['LapTime'].min().reset_index()\n",
    "        print(f\"🔎 Best laps (Driver column) for round {rnd}:\")\n",
    "        print(best_laps['Driver'].unique())\n",
    "\n",
    "        best_laps['qualifying_time'] = best_laps['LapTime'].dt.total_seconds()\n",
    "\n",
    "        # 3. Map abbreviation to full name\n",
    "        best_laps['driver'] = best_laps['Driver'].map(full_name_lookup)\n",
    "        best_laps = best_laps.dropna(subset=['driver'])  # safety check\n",
    "\n",
    "        # 4. Finalize and store\n",
    "        best_laps['round'] = rnd\n",
    "        best_laps = best_laps[['driver', 'qualifying_time', 'round']]\n",
    "        qualifying_times.append(best_laps)\n",
    "\n",
    "        # 5. Weather data\n",
    "        weather = session_q.weather_data.iloc[0]\n",
    "        weather_data.append({\n",
    "            'round': rnd,\n",
    "            'air_temp': weather['AirTemp'],\n",
    "            'track_temp': weather['TrackTemp'],\n",
    "            'humidity': weather['Humidity']\n",
    "        })\n",
    "\n",
    "        # 6. Optional telemetry\n",
    "        try:\n",
    "            telemetry_avg = laps_q.groupby(\"Driver\").agg({\n",
    "                'SpeedST': 'mean',\n",
    "                'Throttle': 'mean',\n",
    "                'Brake': 'mean'\n",
    "            }).reset_index()\n",
    "            telemetry_avg['round'] = rnd\n",
    "            telemetry_data.append(telemetry_avg)\n",
    "        except KeyError:\n",
    "            print(f\"⚠️ Telemetry missing for round {rnd} — skipping telemetry columns.\")\n",
    "\n",
    "    except Exception as e:\n",
    "        print(f\"⚠️ Qualifying data missing for round {rnd}: {e}\")\n",
    "        continue\n",
    "\n",
    "# Merge all data\n",
    "if qualifying_times:\n",
    "    df_q = pd.concat(qualifying_times, ignore_index=True)\n",
    "    df_enriched = df.merge(df_q, on=['round', 'driver'], how='left')\n",
    "else:\n",
    "    print(\"❌ No qualifying data loaded. Exiting.\")\n",
    "    raise SystemExit\n",
    "\n",
    "df_weather = pd.DataFrame(weather_data)\n",
    "df_enriched = df_enriched.merge(df_weather, on='round', how='left')\n",
    "\n",
    "if telemetry_data:\n",
    "    df_tele = pd.concat(telemetry_data, ignore_index=True)\n",
    "    df_enriched = df_enriched.merge(df_tele, left_on=['round', 'driver'], right_on=['round', 'Driver'], how='left')\n",
    "    df_enriched.drop(['Driver'], axis=1, inplace=True)\n",
    "else:\n",
    "    print(\"⚠️ No telemetry data found — skipping telemetry merge.\")\n",
    "\n",
    "# Save final enriched dataset\n",
    "df_enriched.to_csv(\"../data/f1_features_2025_enriched.csv\", index=False)\n",
    "print(\"✅ Enriched dataset saved as 'f1_features_2024_enriched.csv'\")\n",
    "df_enriched.head()\n"
   ]
  },
  {
   "cell_type": "code",
   "execution_count": null,
   "id": "14219437-e4a0-49e7-8f87-889f52c8021b",
   "metadata": {},
   "outputs": [],
   "source": []
  }
 ],
 "metadata": {
  "kernelspec": {
   "display_name": "Python 3 (ipykernel)",
   "language": "python",
   "name": "python3"
  },
  "language_info": {
   "codemirror_mode": {
    "name": "ipython",
    "version": 3
   },
   "file_extension": ".py",
   "mimetype": "text/x-python",
   "name": "python",
   "nbconvert_exporter": "python",
   "pygments_lexer": "ipython3",
   "version": "3.13.1"
  }
 },
 "nbformat": 4,
 "nbformat_minor": 5
}
